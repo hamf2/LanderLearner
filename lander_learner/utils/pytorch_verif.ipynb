{
 "cells": [
  {
   "cell_type": "code",
   "execution_count": 1,
   "metadata": {},
   "outputs": [
    {
     "name": "stdout",
     "output_type": "stream",
     "text": [
      "Torch version: 2.6.0+cu126\n",
      "CUDA available: True\n",
      "CUDA version: 12.6\n",
      "cuDNN version: 90501\n",
      "Number of GPUs: 1\n",
      "GPU Name: NVIDIA GeForce MX250\n",
      "GPU Device: 0\n"
     ]
    }
   ],
   "source": [
    "# C:\\Users\\harry\\Coding\\LanderLearner\\pytorch_verif.ipynb\n",
    "import torch\n",
    "\n",
    "print(\"Torch version:\", torch.__version__)\n",
    "print(\"CUDA available:\", torch.cuda.is_available())\n",
    "print(\"CUDA version:\", torch.version.cuda)\n",
    "print(\"cuDNN version:\", torch.backends.cudnn.version())\n",
    "print(\"Number of GPUs:\", torch.cuda.device_count())\n",
    "\n",
    "if torch.cuda.is_available():\n",
    "    print(\"GPU Name:\", torch.cuda.get_device_name(0))\n",
    "    print(\"GPU Device:\", torch.cuda.current_device())\n",
    "else:\n",
    "    print(\"CUDA is not available. PyTorch is running on CPU.\")"
   ]
  }
 ],
 "metadata": {
  "kernelspec": {
   "display_name": "RL_GPU",
   "language": "python",
   "name": "python3"
  },
  "language_info": {
   "codemirror_mode": {
    "name": "ipython",
    "version": 3
   },
   "file_extension": ".py",
   "mimetype": "text/x-python",
   "name": "python",
   "nbconvert_exporter": "python",
   "pygments_lexer": "ipython3",
   "version": "3.12.8"
  }
 },
 "nbformat": 4,
 "nbformat_minor": 2
}
